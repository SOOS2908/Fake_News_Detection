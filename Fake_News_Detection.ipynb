{
  "nbformat": 4,
  "nbformat_minor": 0,
  "metadata": {
    "colab": {
      "name": "HPC10.ipynb",
      "provenance": [],
      "collapsed_sections": []
    },
    "kernelspec": {
      "name": "python3",
      "display_name": "Python 3"
    },
    "language_info": {
      "name": "python"
    }
  },
  "cells": [
    {
      "cell_type": "code",
      "execution_count": null,
      "metadata": {
        "id": "A3VSMLylP9Ni",
        "colab": {
          "base_uri": "https://localhost:8080/",
          "height": 110
        },
        "outputId": "8754b574-54a4-495a-dc4f-eedf2e3ed730"
      },
      "outputs": [
        {
          "output_type": "execute_result",
          "data": {
            "text/plain": [
              "'\\nDevelop a machine learning program to identify when an article might be fake news. \\n\\ntrain.csv: A full training dataset with the following attributes:\\n•\\tid: unique id for a news article\\n•\\ttitle: the title of a news article\\n•\\tauthor: author of the news article\\n•\\ttext: the text of the article; could be incomplete\\n•\\tlabel: a label that marks the article as potentially unreliable\\no\\t1: unreliable\\no\\t0: reliable\\ntest.csv: A testing training dataset with all the same attributes at train.csv without the label.\\n\\n'"
            ],
            "application/vnd.google.colaboratory.intrinsic+json": {
              "type": "string"
            }
          },
          "metadata": {},
          "execution_count": 29
        }
      ],
      "source": [
        "'''\n",
        "AIM\n",
        "\n",
        "Develop a machine learning program to identify when an article might be fake news. \n",
        "\n",
        "train.csv: A full training dataset with the following attributes:\n",
        "•\tid: unique id for a news article\n",
        "•\ttitle: the title of a news article\n",
        "•\tauthor: author of the news article\n",
        "•\ttext: the text of the article; could be incomplete\n",
        "•\tlabel: a label that marks the article as potentially unreliable\n",
        "o\t1: unreliable\n",
        "o\t0: reliable\n",
        "test.csv: A testing training dataset with all the same attributes at train.csv without the label.\n",
        "\n",
        "'''"
      ]
    },
    {
      "cell_type": "code",
      "execution_count": null,
      "metadata": {
        "execution": {
          "iopub.execute_input": "2021-08-14T15:53:58.817645Z",
          "iopub.status.busy": "2021-08-14T15:53:58.817151Z",
          "iopub.status.idle": "2021-08-14T15:54:05.362714Z",
          "shell.execute_reply": "2021-08-14T15:54:05.362098Z",
          "shell.execute_reply.started": "2021-08-14T15:51:36.992687Z"
        },
        "papermill": {
          "duration": 6.575925,
          "end_time": "2021-08-14T15:54:05.362875",
          "exception": false,
          "start_time": "2021-08-14T15:53:58.786950",
          "status": "completed"
        },
        "tags": [],
        "id": "f958cd3f",
        "colab": {
          "base_uri": "https://localhost:8080/"
        },
        "outputId": "20f351e3-c509-44cd-c134-52c176792172"
      },
      "outputs": [
        {
          "output_type": "stream",
          "name": "stdout",
          "text": [
            "[nltk_data] Downloading package stopwords to /root/nltk_data...\n",
            "[nltk_data]   Package stopwords is already up-to-date!\n"
          ]
        }
      ],
      "source": [
        "import pandas as pd\n",
        "import numpy as np\n",
        "\n",
        "import matplotlib.pyplot as plt\n",
        "import seaborn as sns\n",
        "\n",
        "import tensorflow as tf\n",
        "from tensorflow.keras import layers as L\n",
        "from tensorflow.keras.preprocessing.sequence import pad_sequences\n",
        "from tensorflow.keras.preprocessing.text import one_hot\n",
        "\n",
        "import re\n",
        "import nltk\n",
        "nltk.download('stopwords')\n",
        "from nltk.corpus import stopwords\n",
        "\n",
        "from nltk.stem.porter import PorterStemmer"
      ]
    },
    {
      "cell_type": "markdown",
      "metadata": {
        "papermill": {
          "duration": 0.017798,
          "end_time": "2021-08-14T15:54:05.399431",
          "exception": false,
          "start_time": "2021-08-14T15:54:05.381633",
          "status": "completed"
        },
        "tags": [],
        "id": "203d882e"
      },
      "source": [
        "### Data"
      ]
    },
    {
      "cell_type": "code",
      "execution_count": null,
      "metadata": {
        "execution": {
          "iopub.execute_input": "2021-08-14T15:54:05.440651Z",
          "iopub.status.busy": "2021-08-14T15:54:05.440059Z",
          "iopub.status.idle": "2021-08-14T15:54:08.158125Z",
          "shell.execute_reply": "2021-08-14T15:54:08.157439Z",
          "shell.execute_reply.started": "2021-08-14T15:51:39.979512Z"
        },
        "papermill": {
          "duration": 2.740356,
          "end_time": "2021-08-14T15:54:08.158260",
          "exception": false,
          "start_time": "2021-08-14T15:54:05.417904",
          "status": "completed"
        },
        "tags": [],
        "id": "9284d558"
      },
      "outputs": [],
      "source": [
        "# read dataframe from csv file\n",
        "df = pd.read_csv(\"train.csv\")"
      ]
    },
    {
      "cell_type": "code",
      "execution_count": null,
      "metadata": {
        "execution": {
          "iopub.execute_input": "2021-08-14T15:54:08.207109Z",
          "iopub.status.busy": "2021-08-14T15:54:08.206474Z",
          "iopub.status.idle": "2021-08-14T15:54:08.226487Z",
          "shell.execute_reply": "2021-08-14T15:54:08.226932Z",
          "shell.execute_reply.started": "2021-08-14T15:51:41.103129Z"
        },
        "papermill": {
          "duration": 0.049648,
          "end_time": "2021-08-14T15:54:08.227071",
          "exception": false,
          "start_time": "2021-08-14T15:54:08.177423",
          "status": "completed"
        },
        "tags": [],
        "id": "95b3b681",
        "outputId": "6e998daa-baac-4911-d9b3-506c60cf3e3b",
        "colab": {
          "base_uri": "https://localhost:8080/",
          "height": 206
        }
      },
      "outputs": [
        {
          "output_type": "execute_result",
          "data": {
            "text/plain": [
              "   id                                              title              author  \\\n",
              "0   0  House Dem Aide: We Didn’t Even See Comey’s Let...       Darrell Lucus   \n",
              "1   1  FLYNN: Hillary Clinton, Big Woman on Campus - ...     Daniel J. Flynn   \n",
              "2   2                  Why the Truth Might Get You Fired  Consortiumnews.com   \n",
              "3   3  15 Civilians Killed In Single US Airstrike Hav...     Jessica Purkiss   \n",
              "4   4  Iranian woman jailed for fictional unpublished...      Howard Portnoy   \n",
              "\n",
              "                                                text  label  \n",
              "0  House Dem Aide: We Didn’t Even See Comey’s Let...      1  \n",
              "1  Ever get the feeling your life circles the rou...      0  \n",
              "2  Why the Truth Might Get You Fired October 29, ...      1  \n",
              "3  Videos 15 Civilians Killed In Single US Airstr...      1  \n",
              "4  Print \\nAn Iranian woman has been sentenced to...      1  "
            ],
            "text/html": [
              "\n",
              "  <div id=\"df-8fa2d18c-83f2-4953-8b4f-ecfe46440b49\">\n",
              "    <div class=\"colab-df-container\">\n",
              "      <div>\n",
              "<style scoped>\n",
              "    .dataframe tbody tr th:only-of-type {\n",
              "        vertical-align: middle;\n",
              "    }\n",
              "\n",
              "    .dataframe tbody tr th {\n",
              "        vertical-align: top;\n",
              "    }\n",
              "\n",
              "    .dataframe thead th {\n",
              "        text-align: right;\n",
              "    }\n",
              "</style>\n",
              "<table border=\"1\" class=\"dataframe\">\n",
              "  <thead>\n",
              "    <tr style=\"text-align: right;\">\n",
              "      <th></th>\n",
              "      <th>id</th>\n",
              "      <th>title</th>\n",
              "      <th>author</th>\n",
              "      <th>text</th>\n",
              "      <th>label</th>\n",
              "    </tr>\n",
              "  </thead>\n",
              "  <tbody>\n",
              "    <tr>\n",
              "      <th>0</th>\n",
              "      <td>0</td>\n",
              "      <td>House Dem Aide: We Didn’t Even See Comey’s Let...</td>\n",
              "      <td>Darrell Lucus</td>\n",
              "      <td>House Dem Aide: We Didn’t Even See Comey’s Let...</td>\n",
              "      <td>1</td>\n",
              "    </tr>\n",
              "    <tr>\n",
              "      <th>1</th>\n",
              "      <td>1</td>\n",
              "      <td>FLYNN: Hillary Clinton, Big Woman on Campus - ...</td>\n",
              "      <td>Daniel J. Flynn</td>\n",
              "      <td>Ever get the feeling your life circles the rou...</td>\n",
              "      <td>0</td>\n",
              "    </tr>\n",
              "    <tr>\n",
              "      <th>2</th>\n",
              "      <td>2</td>\n",
              "      <td>Why the Truth Might Get You Fired</td>\n",
              "      <td>Consortiumnews.com</td>\n",
              "      <td>Why the Truth Might Get You Fired October 29, ...</td>\n",
              "      <td>1</td>\n",
              "    </tr>\n",
              "    <tr>\n",
              "      <th>3</th>\n",
              "      <td>3</td>\n",
              "      <td>15 Civilians Killed In Single US Airstrike Hav...</td>\n",
              "      <td>Jessica Purkiss</td>\n",
              "      <td>Videos 15 Civilians Killed In Single US Airstr...</td>\n",
              "      <td>1</td>\n",
              "    </tr>\n",
              "    <tr>\n",
              "      <th>4</th>\n",
              "      <td>4</td>\n",
              "      <td>Iranian woman jailed for fictional unpublished...</td>\n",
              "      <td>Howard Portnoy</td>\n",
              "      <td>Print \\nAn Iranian woman has been sentenced to...</td>\n",
              "      <td>1</td>\n",
              "    </tr>\n",
              "  </tbody>\n",
              "</table>\n",
              "</div>\n",
              "      <button class=\"colab-df-convert\" onclick=\"convertToInteractive('df-8fa2d18c-83f2-4953-8b4f-ecfe46440b49')\"\n",
              "              title=\"Convert this dataframe to an interactive table.\"\n",
              "              style=\"display:none;\">\n",
              "        \n",
              "  <svg xmlns=\"http://www.w3.org/2000/svg\" height=\"24px\"viewBox=\"0 0 24 24\"\n",
              "       width=\"24px\">\n",
              "    <path d=\"M0 0h24v24H0V0z\" fill=\"none\"/>\n",
              "    <path d=\"M18.56 5.44l.94 2.06.94-2.06 2.06-.94-2.06-.94-.94-2.06-.94 2.06-2.06.94zm-11 1L8.5 8.5l.94-2.06 2.06-.94-2.06-.94L8.5 2.5l-.94 2.06-2.06.94zm10 10l.94 2.06.94-2.06 2.06-.94-2.06-.94-.94-2.06-.94 2.06-2.06.94z\"/><path d=\"M17.41 7.96l-1.37-1.37c-.4-.4-.92-.59-1.43-.59-.52 0-1.04.2-1.43.59L10.3 9.45l-7.72 7.72c-.78.78-.78 2.05 0 2.83L4 21.41c.39.39.9.59 1.41.59.51 0 1.02-.2 1.41-.59l7.78-7.78 2.81-2.81c.8-.78.8-2.07 0-2.86zM5.41 20L4 18.59l7.72-7.72 1.47 1.35L5.41 20z\"/>\n",
              "  </svg>\n",
              "      </button>\n",
              "      \n",
              "  <style>\n",
              "    .colab-df-container {\n",
              "      display:flex;\n",
              "      flex-wrap:wrap;\n",
              "      gap: 12px;\n",
              "    }\n",
              "\n",
              "    .colab-df-convert {\n",
              "      background-color: #E8F0FE;\n",
              "      border: none;\n",
              "      border-radius: 50%;\n",
              "      cursor: pointer;\n",
              "      display: none;\n",
              "      fill: #1967D2;\n",
              "      height: 32px;\n",
              "      padding: 0 0 0 0;\n",
              "      width: 32px;\n",
              "    }\n",
              "\n",
              "    .colab-df-convert:hover {\n",
              "      background-color: #E2EBFA;\n",
              "      box-shadow: 0px 1px 2px rgba(60, 64, 67, 0.3), 0px 1px 3px 1px rgba(60, 64, 67, 0.15);\n",
              "      fill: #174EA6;\n",
              "    }\n",
              "\n",
              "    [theme=dark] .colab-df-convert {\n",
              "      background-color: #3B4455;\n",
              "      fill: #D2E3FC;\n",
              "    }\n",
              "\n",
              "    [theme=dark] .colab-df-convert:hover {\n",
              "      background-color: #434B5C;\n",
              "      box-shadow: 0px 1px 3px 1px rgba(0, 0, 0, 0.15);\n",
              "      filter: drop-shadow(0px 1px 2px rgba(0, 0, 0, 0.3));\n",
              "      fill: #FFFFFF;\n",
              "    }\n",
              "  </style>\n",
              "\n",
              "      <script>\n",
              "        const buttonEl =\n",
              "          document.querySelector('#df-8fa2d18c-83f2-4953-8b4f-ecfe46440b49 button.colab-df-convert');\n",
              "        buttonEl.style.display =\n",
              "          google.colab.kernel.accessAllowed ? 'block' : 'none';\n",
              "\n",
              "        async function convertToInteractive(key) {\n",
              "          const element = document.querySelector('#df-8fa2d18c-83f2-4953-8b4f-ecfe46440b49');\n",
              "          const dataTable =\n",
              "            await google.colab.kernel.invokeFunction('convertToInteractive',\n",
              "                                                     [key], {});\n",
              "          if (!dataTable) return;\n",
              "\n",
              "          const docLinkHtml = 'Like what you see? Visit the ' +\n",
              "            '<a target=\"_blank\" href=https://colab.research.google.com/notebooks/data_table.ipynb>data table notebook</a>'\n",
              "            + ' to learn more about interactive tables.';\n",
              "          element.innerHTML = '';\n",
              "          dataTable['output_type'] = 'display_data';\n",
              "          await google.colab.output.renderOutput(dataTable, element);\n",
              "          const docLink = document.createElement('div');\n",
              "          docLink.innerHTML = docLinkHtml;\n",
              "          element.appendChild(docLink);\n",
              "        }\n",
              "      </script>\n",
              "    </div>\n",
              "  </div>\n",
              "  "
            ]
          },
          "metadata": {},
          "execution_count": 32
        }
      ],
      "source": [
        "df.head()"
      ]
    },
    {
      "cell_type": "code",
      "execution_count": null,
      "metadata": {
        "execution": {
          "iopub.execute_input": "2021-08-14T15:54:08.275914Z",
          "iopub.status.busy": "2021-08-14T15:54:08.275297Z",
          "iopub.status.idle": "2021-08-14T15:54:08.316590Z",
          "shell.execute_reply": "2021-08-14T15:54:08.317032Z",
          "shell.execute_reply.started": "2021-08-14T15:51:41.128280Z"
        },
        "papermill": {
          "duration": 0.070685,
          "end_time": "2021-08-14T15:54:08.317176",
          "exception": false,
          "start_time": "2021-08-14T15:54:08.246491",
          "status": "completed"
        },
        "scrolled": true,
        "tags": [],
        "id": "b63ff397",
        "outputId": "3ce08e92-64aa-4d80-f09c-afc1f178e89a",
        "colab": {
          "base_uri": "https://localhost:8080/",
          "height": 336
        }
      },
      "outputs": [
        {
          "output_type": "execute_result",
          "data": {
            "text/plain": [
              "   id                                              title              author  \\\n",
              "0   0  House Dem Aide: We Didn’t Even See Comey’s Let...       Darrell Lucus   \n",
              "1   1  FLYNN: Hillary Clinton, Big Woman on Campus - ...     Daniel J. Flynn   \n",
              "2   2                  Why the Truth Might Get You Fired  Consortiumnews.com   \n",
              "3   3  15 Civilians Killed In Single US Airstrike Hav...     Jessica Purkiss   \n",
              "4   4  Iranian woman jailed for fictional unpublished...      Howard Portnoy   \n",
              "\n",
              "                                                text  label  \\\n",
              "0  House Dem Aide: We Didn’t Even See Comey’s Let...      1   \n",
              "1  Ever get the feeling your life circles the rou...      0   \n",
              "2  Why the Truth Might Get You Fired October 29, ...      1   \n",
              "3  Videos 15 Civilians Killed In Single US Airstr...      1   \n",
              "4  Print \\nAn Iranian woman has been sentenced to...      1   \n",
              "\n",
              "                                               total  \n",
              "0  House Dem Aide: We Didn’t Even See Comey’s Let...  \n",
              "1  FLYNN: Hillary Clinton, Big Woman on Campus - ...  \n",
              "2  Why the Truth Might Get You Fired Consortiumne...  \n",
              "3  15 Civilians Killed In Single US Airstrike Hav...  \n",
              "4  Iranian woman jailed for fictional unpublished...  "
            ],
            "text/html": [
              "\n",
              "  <div id=\"df-b1ecfcd1-3229-4e94-a3c6-d432236cf893\">\n",
              "    <div class=\"colab-df-container\">\n",
              "      <div>\n",
              "<style scoped>\n",
              "    .dataframe tbody tr th:only-of-type {\n",
              "        vertical-align: middle;\n",
              "    }\n",
              "\n",
              "    .dataframe tbody tr th {\n",
              "        vertical-align: top;\n",
              "    }\n",
              "\n",
              "    .dataframe thead th {\n",
              "        text-align: right;\n",
              "    }\n",
              "</style>\n",
              "<table border=\"1\" class=\"dataframe\">\n",
              "  <thead>\n",
              "    <tr style=\"text-align: right;\">\n",
              "      <th></th>\n",
              "      <th>id</th>\n",
              "      <th>title</th>\n",
              "      <th>author</th>\n",
              "      <th>text</th>\n",
              "      <th>label</th>\n",
              "      <th>total</th>\n",
              "    </tr>\n",
              "  </thead>\n",
              "  <tbody>\n",
              "    <tr>\n",
              "      <th>0</th>\n",
              "      <td>0</td>\n",
              "      <td>House Dem Aide: We Didn’t Even See Comey’s Let...</td>\n",
              "      <td>Darrell Lucus</td>\n",
              "      <td>House Dem Aide: We Didn’t Even See Comey’s Let...</td>\n",
              "      <td>1</td>\n",
              "      <td>House Dem Aide: We Didn’t Even See Comey’s Let...</td>\n",
              "    </tr>\n",
              "    <tr>\n",
              "      <th>1</th>\n",
              "      <td>1</td>\n",
              "      <td>FLYNN: Hillary Clinton, Big Woman on Campus - ...</td>\n",
              "      <td>Daniel J. Flynn</td>\n",
              "      <td>Ever get the feeling your life circles the rou...</td>\n",
              "      <td>0</td>\n",
              "      <td>FLYNN: Hillary Clinton, Big Woman on Campus - ...</td>\n",
              "    </tr>\n",
              "    <tr>\n",
              "      <th>2</th>\n",
              "      <td>2</td>\n",
              "      <td>Why the Truth Might Get You Fired</td>\n",
              "      <td>Consortiumnews.com</td>\n",
              "      <td>Why the Truth Might Get You Fired October 29, ...</td>\n",
              "      <td>1</td>\n",
              "      <td>Why the Truth Might Get You Fired Consortiumne...</td>\n",
              "    </tr>\n",
              "    <tr>\n",
              "      <th>3</th>\n",
              "      <td>3</td>\n",
              "      <td>15 Civilians Killed In Single US Airstrike Hav...</td>\n",
              "      <td>Jessica Purkiss</td>\n",
              "      <td>Videos 15 Civilians Killed In Single US Airstr...</td>\n",
              "      <td>1</td>\n",
              "      <td>15 Civilians Killed In Single US Airstrike Hav...</td>\n",
              "    </tr>\n",
              "    <tr>\n",
              "      <th>4</th>\n",
              "      <td>4</td>\n",
              "      <td>Iranian woman jailed for fictional unpublished...</td>\n",
              "      <td>Howard Portnoy</td>\n",
              "      <td>Print \\nAn Iranian woman has been sentenced to...</td>\n",
              "      <td>1</td>\n",
              "      <td>Iranian woman jailed for fictional unpublished...</td>\n",
              "    </tr>\n",
              "  </tbody>\n",
              "</table>\n",
              "</div>\n",
              "      <button class=\"colab-df-convert\" onclick=\"convertToInteractive('df-b1ecfcd1-3229-4e94-a3c6-d432236cf893')\"\n",
              "              title=\"Convert this dataframe to an interactive table.\"\n",
              "              style=\"display:none;\">\n",
              "        \n",
              "  <svg xmlns=\"http://www.w3.org/2000/svg\" height=\"24px\"viewBox=\"0 0 24 24\"\n",
              "       width=\"24px\">\n",
              "    <path d=\"M0 0h24v24H0V0z\" fill=\"none\"/>\n",
              "    <path d=\"M18.56 5.44l.94 2.06.94-2.06 2.06-.94-2.06-.94-.94-2.06-.94 2.06-2.06.94zm-11 1L8.5 8.5l.94-2.06 2.06-.94-2.06-.94L8.5 2.5l-.94 2.06-2.06.94zm10 10l.94 2.06.94-2.06 2.06-.94-2.06-.94-.94-2.06-.94 2.06-2.06.94z\"/><path d=\"M17.41 7.96l-1.37-1.37c-.4-.4-.92-.59-1.43-.59-.52 0-1.04.2-1.43.59L10.3 9.45l-7.72 7.72c-.78.78-.78 2.05 0 2.83L4 21.41c.39.39.9.59 1.41.59.51 0 1.02-.2 1.41-.59l7.78-7.78 2.81-2.81c.8-.78.8-2.07 0-2.86zM5.41 20L4 18.59l7.72-7.72 1.47 1.35L5.41 20z\"/>\n",
              "  </svg>\n",
              "      </button>\n",
              "      \n",
              "  <style>\n",
              "    .colab-df-container {\n",
              "      display:flex;\n",
              "      flex-wrap:wrap;\n",
              "      gap: 12px;\n",
              "    }\n",
              "\n",
              "    .colab-df-convert {\n",
              "      background-color: #E8F0FE;\n",
              "      border: none;\n",
              "      border-radius: 50%;\n",
              "      cursor: pointer;\n",
              "      display: none;\n",
              "      fill: #1967D2;\n",
              "      height: 32px;\n",
              "      padding: 0 0 0 0;\n",
              "      width: 32px;\n",
              "    }\n",
              "\n",
              "    .colab-df-convert:hover {\n",
              "      background-color: #E2EBFA;\n",
              "      box-shadow: 0px 1px 2px rgba(60, 64, 67, 0.3), 0px 1px 3px 1px rgba(60, 64, 67, 0.15);\n",
              "      fill: #174EA6;\n",
              "    }\n",
              "\n",
              "    [theme=dark] .colab-df-convert {\n",
              "      background-color: #3B4455;\n",
              "      fill: #D2E3FC;\n",
              "    }\n",
              "\n",
              "    [theme=dark] .colab-df-convert:hover {\n",
              "      background-color: #434B5C;\n",
              "      box-shadow: 0px 1px 3px 1px rgba(0, 0, 0, 0.15);\n",
              "      filter: drop-shadow(0px 1px 2px rgba(0, 0, 0, 0.3));\n",
              "      fill: #FFFFFF;\n",
              "    }\n",
              "  </style>\n",
              "\n",
              "      <script>\n",
              "        const buttonEl =\n",
              "          document.querySelector('#df-b1ecfcd1-3229-4e94-a3c6-d432236cf893 button.colab-df-convert');\n",
              "        buttonEl.style.display =\n",
              "          google.colab.kernel.accessAllowed ? 'block' : 'none';\n",
              "\n",
              "        async function convertToInteractive(key) {\n",
              "          const element = document.querySelector('#df-b1ecfcd1-3229-4e94-a3c6-d432236cf893');\n",
              "          const dataTable =\n",
              "            await google.colab.kernel.invokeFunction('convertToInteractive',\n",
              "                                                     [key], {});\n",
              "          if (!dataTable) return;\n",
              "\n",
              "          const docLinkHtml = 'Like what you see? Visit the ' +\n",
              "            '<a target=\"_blank\" href=https://colab.research.google.com/notebooks/data_table.ipynb>data table notebook</a>'\n",
              "            + ' to learn more about interactive tables.';\n",
              "          element.innerHTML = '';\n",
              "          dataTable['output_type'] = 'display_data';\n",
              "          await google.colab.output.renderOutput(dataTable, element);\n",
              "          const docLink = document.createElement('div');\n",
              "          docLink.innerHTML = docLinkHtml;\n",
              "          element.appendChild(docLink);\n",
              "        }\n",
              "      </script>\n",
              "    </div>\n",
              "  </div>\n",
              "  "
            ]
          },
          "metadata": {},
          "execution_count": 33
        }
      ],
      "source": [
        "# null value handling\n",
        "df = df.fillna('')\n",
        "\n",
        "# create new column with title and author name in one line\n",
        "df[\"total\"] = df['title'] + \" \" + df[\"author\"]\n",
        "\n",
        "df.head()"
      ]
    },
    {
      "cell_type": "code",
      "execution_count": null,
      "metadata": {
        "execution": {
          "iopub.execute_input": "2021-08-14T15:54:08.361609Z",
          "iopub.status.busy": "2021-08-14T15:54:08.360824Z",
          "iopub.status.idle": "2021-08-14T15:54:08.370189Z",
          "shell.execute_reply": "2021-08-14T15:54:08.369793Z",
          "shell.execute_reply.started": "2021-08-14T15:51:41.176280Z"
        },
        "papermill": {
          "duration": 0.033205,
          "end_time": "2021-08-14T15:54:08.370299",
          "exception": false,
          "start_time": "2021-08-14T15:54:08.337094",
          "status": "completed"
        },
        "scrolled": true,
        "tags": [],
        "id": "4e0a3bda",
        "outputId": "4d4dc32b-b7ef-4da1-e799-a4f3298b958d",
        "colab": {
          "base_uri": "https://localhost:8080/"
        }
      },
      "outputs": [
        {
          "output_type": "execute_result",
          "data": {
            "text/plain": [
              "((20800, 5), (20800,))"
            ]
          },
          "metadata": {},
          "execution_count": 34
        }
      ],
      "source": [
        "# seperating target column from input features \n",
        "X = df.drop(\"label\", axis = 1)\n",
        "y = df[\"label\"]\n",
        "\n",
        "X.shape, y.shape"
      ]
    },
    {
      "cell_type": "markdown",
      "metadata": {
        "papermill": {
          "duration": 0.019284,
          "end_time": "2021-08-14T15:54:08.409787",
          "exception": false,
          "start_time": "2021-08-14T15:54:08.390503",
          "status": "completed"
        },
        "tags": [],
        "id": "63f6a9d5"
      },
      "source": [
        "## Pre-Processing"
      ]
    },
    {
      "cell_type": "code",
      "execution_count": null,
      "metadata": {
        "execution": {
          "iopub.execute_input": "2021-08-14T15:54:08.454032Z",
          "iopub.status.busy": "2021-08-14T15:54:08.453210Z",
          "iopub.status.idle": "2021-08-14T15:54:08.457617Z",
          "shell.execute_reply": "2021-08-14T15:54:08.457230Z",
          "shell.execute_reply.started": "2021-08-14T15:51:41.194393Z"
        },
        "papermill": {
          "duration": 0.027343,
          "end_time": "2021-08-14T15:54:08.457748",
          "exception": false,
          "start_time": "2021-08-14T15:54:08.430405",
          "status": "completed"
        },
        "tags": [],
        "id": "2c14a039"
      },
      "outputs": [],
      "source": [
        "VOCAB_SIZE = 5000\n",
        "text = X.copy()"
      ]
    },
    {
      "cell_type": "code",
      "execution_count": null,
      "metadata": {
        "execution": {
          "iopub.execute_input": "2021-08-14T15:54:08.503366Z",
          "iopub.status.busy": "2021-08-14T15:54:08.502150Z",
          "iopub.status.idle": "2021-08-14T15:54:08.504926Z",
          "shell.execute_reply": "2021-08-14T15:54:08.504482Z",
          "shell.execute_reply.started": "2021-08-14T15:51:41.204416Z"
        },
        "papermill": {
          "duration": 0.027799,
          "end_time": "2021-08-14T15:54:08.505034",
          "exception": false,
          "start_time": "2021-08-14T15:54:08.477235",
          "status": "completed"
        },
        "tags": [],
        "id": "21e9d223"
      },
      "outputs": [],
      "source": [
        "# function to clean and normalize words in text\n",
        "# PorterStemmer - removing the commoner morphological and inflexional endings \n",
        "def text_cleaning(length):\n",
        "    ps = PorterStemmer()\n",
        "    corpus = []\n",
        "    for i in range(length):\n",
        "        # sentence beginning with alphabets\n",
        "        m = re.sub(\"[^a-zA-Z]\",\" \",text[\"total\"][i])\n",
        "        # toggle to lowercase\n",
        "        m = m.lower()\n",
        "        # break sentence into words\n",
        "        m = m.split()\n",
        "        # porterstem all the words which add meaning to the sentence and store them in the same variable\n",
        "        m = [ps.stem(word) for word in m if not word in stopwords.words('english')]\n",
        "        # cleaned words joined back as a sentence (albeit not one that makes sense)\n",
        "        clean_text = \" \".join(m)\n",
        "        # join sentence back to the text block\n",
        "        corpus.append(clean_text)\n",
        "        \n",
        "    return corpus"
      ]
    },
    {
      "cell_type": "code",
      "execution_count": null,
      "metadata": {
        "execution": {
          "iopub.execute_input": "2021-08-14T15:54:08.548576Z",
          "iopub.status.busy": "2021-08-14T15:54:08.548027Z",
          "iopub.status.idle": "2021-08-14T15:54:49.398729Z",
          "shell.execute_reply": "2021-08-14T15:54:49.399314Z",
          "shell.execute_reply.started": "2021-08-14T15:51:41.219613Z"
        },
        "papermill": {
          "duration": 40.875182,
          "end_time": "2021-08-14T15:54:49.399499",
          "exception": false,
          "start_time": "2021-08-14T15:54:08.524317",
          "status": "completed"
        },
        "tags": [],
        "id": "26857cf4",
        "outputId": "97890565-ec57-4d7c-f744-5fed2ffc031c",
        "colab": {
          "base_uri": "https://localhost:8080/"
        }
      },
      "outputs": [
        {
          "output_type": "stream",
          "name": "stdout",
          "text": [
            "CPU times: user 46.5 s, sys: 4.66 s, total: 51.2 s\n",
            "Wall time: 55.7 s\n"
          ]
        }
      ],
      "source": [
        "# print the time taken to do the above function\n",
        "%%time\n",
        "clean_text_corpus = text_cleaning(len(text))"
      ]
    },
    {
      "cell_type": "code",
      "execution_count": null,
      "metadata": {
        "execution": {
          "iopub.execute_input": "2021-08-14T15:54:49.445765Z",
          "iopub.status.busy": "2021-08-14T15:54:49.445033Z",
          "iopub.status.idle": "2021-08-14T15:54:49.448686Z",
          "shell.execute_reply": "2021-08-14T15:54:49.448250Z",
          "shell.execute_reply.started": "2021-08-14T15:52:41.251581Z"
        },
        "papermill": {
          "duration": 0.028224,
          "end_time": "2021-08-14T15:54:49.448799",
          "exception": false,
          "start_time": "2021-08-14T15:54:49.420575",
          "status": "completed"
        },
        "tags": [],
        "id": "b258e8d4",
        "outputId": "6e520726-6b32-436b-d3c1-5e01d1b013fd",
        "colab": {
          "base_uri": "https://localhost:8080/",
          "height": 36
        }
      },
      "outputs": [
        {
          "output_type": "execute_result",
          "data": {
            "text/plain": [
              "'hous dem aid even see comey letter jason chaffetz tweet darrel lucu'"
            ],
            "application/vnd.google.colaboratory.intrinsic+json": {
              "type": "string"
            }
          },
          "metadata": {},
          "execution_count": 38
        }
      ],
      "source": [
        "# check 1st line of cleaned text\n",
        "clean_text_corpus[0]"
      ]
    },
    {
      "cell_type": "code",
      "execution_count": null,
      "metadata": {
        "execution": {
          "iopub.execute_input": "2021-08-14T15:54:49.533055Z",
          "iopub.status.busy": "2021-08-14T15:54:49.522907Z",
          "iopub.status.idle": "2021-08-14T15:54:49.754842Z",
          "shell.execute_reply": "2021-08-14T15:54:49.754370Z",
          "shell.execute_reply.started": "2021-08-14T15:52:41.262502Z"
        },
        "papermill": {
          "duration": 0.285435,
          "end_time": "2021-08-14T15:54:49.754976",
          "exception": false,
          "start_time": "2021-08-14T15:54:49.469541",
          "status": "completed"
        },
        "tags": [],
        "id": "e49b5b80"
      },
      "outputs": [],
      "source": [
        "# one hot encode 1000(VOCAB_SIZE) words in the cleaned text \n",
        "onehot_text = [one_hot(words, VOCAB_SIZE) for words in clean_text_corpus]"
      ]
    },
    {
      "cell_type": "code",
      "execution_count": null,
      "metadata": {
        "execution": {
          "iopub.execute_input": "2021-08-14T15:54:49.803229Z",
          "iopub.status.busy": "2021-08-14T15:54:49.802416Z",
          "iopub.status.idle": "2021-08-14T15:54:49.938739Z",
          "shell.execute_reply": "2021-08-14T15:54:49.938278Z",
          "shell.execute_reply.started": "2021-08-14T15:52:41.583357Z"
        },
        "papermill": {
          "duration": 0.163436,
          "end_time": "2021-08-14T15:54:49.938867",
          "exception": false,
          "start_time": "2021-08-14T15:54:49.775431",
          "status": "completed"
        },
        "tags": [],
        "id": "ea96f7f9"
      },
      "outputs": [],
      "source": [
        "# padding sequences to same length\n",
        "padded_doc = pad_sequences(onehot_text, padding=\"pre\", maxlen = 25)"
      ]
    },
    {
      "cell_type": "code",
      "execution_count": null,
      "metadata": {
        "execution": {
          "iopub.execute_input": "2021-08-14T15:54:49.983989Z",
          "iopub.status.busy": "2021-08-14T15:54:49.983081Z",
          "iopub.status.idle": "2021-08-14T15:54:49.987272Z",
          "shell.execute_reply": "2021-08-14T15:54:49.986877Z",
          "shell.execute_reply.started": "2021-08-14T15:52:41.770164Z"
        },
        "papermill": {
          "duration": 0.028143,
          "end_time": "2021-08-14T15:54:49.987378",
          "exception": false,
          "start_time": "2021-08-14T15:54:49.959235",
          "status": "completed"
        },
        "tags": [],
        "id": "346355ba"
      },
      "outputs": [],
      "source": [
        "# training data is pre-processed now\n",
        "x_train = np.array(padded_doc)\n",
        "y_train = np.array(y)"
      ]
    },
    {
      "cell_type": "markdown",
      "metadata": {
        "papermill": {
          "duration": 0.019763,
          "end_time": "2021-08-14T15:54:50.027107",
          "exception": false,
          "start_time": "2021-08-14T15:54:50.007344",
          "status": "completed"
        },
        "tags": [],
        "id": "5531ce78"
      },
      "source": [
        "## Model"
      ]
    },
    {
      "cell_type": "code",
      "execution_count": null,
      "metadata": {
        "execution": {
          "iopub.execute_input": "2021-08-14T15:54:50.073645Z",
          "iopub.status.busy": "2021-08-14T15:54:50.072900Z",
          "iopub.status.idle": "2021-08-14T15:54:50.075193Z",
          "shell.execute_reply": "2021-08-14T15:54:50.075621Z",
          "shell.execute_reply.started": "2021-08-14T15:52:41.782540Z"
        },
        "papermill": {
          "duration": 0.028819,
          "end_time": "2021-08-14T15:54:50.075773",
          "exception": false,
          "start_time": "2021-08-14T15:54:50.046954",
          "status": "completed"
        },
        "tags": [],
        "id": "94c6345b"
      },
      "outputs": [],
      "source": [
        "def build_model():\n",
        "    # model structure\n",
        "    model = tf.keras.Sequential([\n",
        "        # vectorize words\n",
        "        L.Embedding(VOCAB_SIZE, 40, input_length = 25),\n",
        "        # to prevent overfitting\n",
        "        L.Dropout(0.3),\n",
        "        # rnn based layer with feedback connections \n",
        "        L.LSTM(100),\n",
        "        # anti-overfitting\n",
        "        L.Dropout(0.3),\n",
        "        # define size of output to 64 and use relu act. f(x) (to prevent exponential growth)\n",
        "        L.Dense(64, activation = \"relu\"),\n",
        "        # same as above\n",
        "        L.Dropout(0.3),\n",
        "        # define size of output to 1 and use sigmoid act. f(x) (for mapping predicted values to probabilities)\n",
        "        L.Dense(1, activation = \"sigmoid\")\n",
        "    ])\n",
        "    \n",
        "    # compile model using adam optimizer (for faster computation time and requirement of fewer parameter for tuning)\n",
        "    # loss function is binary cross-entropy function (good for when prediction only have 0, 1 values)\n",
        "    # metrics calculated using binary accuracy function\n",
        "    model.compile(optimizer=\"adam\", loss = tf.keras.losses.BinaryCrossentropy(from_logits=True), # non-normalized losses\n",
        "                 metrics = tf.metrics.BinaryAccuracy()\n",
        "                 )\n",
        "    \n",
        "    return model"
      ]
    },
    {
      "cell_type": "code",
      "execution_count": null,
      "metadata": {
        "execution": {
          "iopub.execute_input": "2021-08-14T15:54:50.119345Z",
          "iopub.status.busy": "2021-08-14T15:54:50.118800Z",
          "iopub.status.idle": "2021-08-14T15:54:52.954360Z",
          "shell.execute_reply": "2021-08-14T15:54:52.954916Z",
          "shell.execute_reply.started": "2021-08-14T15:52:41.795227Z"
        },
        "papermill": {
          "duration": 2.859122,
          "end_time": "2021-08-14T15:54:52.955107",
          "exception": false,
          "start_time": "2021-08-14T15:54:50.095985",
          "status": "completed"
        },
        "tags": [],
        "id": "f3d91d01",
        "outputId": "56525a6a-d0f1-4751-e60f-06dba347a0c7",
        "colab": {
          "base_uri": "https://localhost:8080/"
        }
      },
      "outputs": [
        {
          "output_type": "stream",
          "name": "stdout",
          "text": [
            "Model: \"sequential\"\n",
            "_________________________________________________________________\n",
            " Layer (type)                Output Shape              Param #   \n",
            "=================================================================\n",
            " embedding (Embedding)       (None, 25, 40)            200000    \n",
            "                                                                 \n",
            " dropout (Dropout)           (None, 25, 40)            0         \n",
            "                                                                 \n",
            " lstm (LSTM)                 (None, 100)               56400     \n",
            "                                                                 \n",
            " dropout_1 (Dropout)         (None, 100)               0         \n",
            "                                                                 \n",
            " dense (Dense)               (None, 64)                6464      \n",
            "                                                                 \n",
            " dropout_2 (Dropout)         (None, 64)                0         \n",
            "                                                                 \n",
            " dense_1 (Dense)             (None, 1)                 65        \n",
            "                                                                 \n",
            "=================================================================\n",
            "Total params: 262,929\n",
            "Trainable params: 262,929\n",
            "Non-trainable params: 0\n",
            "_________________________________________________________________\n"
          ]
        }
      ],
      "source": [
        "news_classifier = build_model()\n",
        "news_classifier.summary()"
      ]
    },
    {
      "cell_type": "code",
      "execution_count": null,
      "metadata": {
        "execution": {
          "iopub.execute_input": "2021-08-14T15:54:53.000947Z",
          "iopub.status.busy": "2021-08-14T15:54:53.000358Z",
          "iopub.status.idle": "2021-08-14T15:54:53.513690Z",
          "shell.execute_reply": "2021-08-14T15:54:53.512528Z",
          "shell.execute_reply.started": "2021-08-14T15:52:43.518504Z"
        },
        "papermill": {
          "duration": 0.537581,
          "end_time": "2021-08-14T15:54:53.513835",
          "exception": false,
          "start_time": "2021-08-14T15:54:52.976254",
          "status": "completed"
        },
        "tags": [],
        "id": "997b0b3b",
        "outputId": "2c3f4d61-8e66-4851-f2bc-9d2fc99248fe",
        "colab": {
          "base_uri": "https://localhost:8080/",
          "height": 757
        }
      },
      "outputs": [
        {
          "output_type": "execute_result",
          "data": {
            "text/plain": [
              "<IPython.core.display.Image object>"
            ],
            "image/png": "[encoded data removed]"
          },
          "metadata": {},
          "execution_count": 44
        }
      ],
      "source": [
        "tf.keras.utils.plot_model(news_classifier)"
      ]
    },
    {
      "cell_type": "markdown",
      "metadata": {
        "papermill": {
          "duration": 0.02104,
          "end_time": "2021-08-14T15:54:53.556092",
          "exception": false,
          "start_time": "2021-08-14T15:54:53.535052",
          "status": "completed"
        },
        "tags": [],
        "id": "eab2c90b"
      },
      "source": [
        "## Training"
      ]
    },
    {
      "cell_type": "code",
      "execution_count": null,
      "metadata": {
        "execution": {
          "iopub.execute_input": "2021-08-14T15:54:53.605054Z",
          "iopub.status.busy": "2021-08-14T15:54:53.604248Z",
          "iopub.status.idle": "2021-08-14T15:54:53.607056Z",
          "shell.execute_reply": "2021-08-14T15:54:53.606614Z",
          "shell.execute_reply.started": "2021-08-14T15:52:43.689787Z"
        },
        "papermill": {
          "duration": 0.029714,
          "end_time": "2021-08-14T15:54:53.607161",
          "exception": false,
          "start_time": "2021-08-14T15:54:53.577447",
          "status": "completed"
        },
        "tags": [],
        "id": "f7b92eb6"
      },
      "outputs": [],
      "source": [
        "## for logging model stats ##\n",
        "my_callbacks = [tf.keras.callbacks.ModelCheckpoint(\"news_classifier.h5\", monitor = \"val_loss\", save_best_only=True),\n",
        "                tf.keras.callbacks.CSVLogger(\"training.log\"),\n",
        "                tf.keras.callbacks.EarlyStopping(patience=5),\n",
        "                tf.keras.callbacks.ReduceLROnPlateau(monitor='val_loss', factor=0.2, patience=5, min_lr=0.001)\n",
        "               ]"
      ]
    },
    {
      "cell_type": "code",
      "execution_count": null,
      "metadata": {
        "execution": {
          "iopub.execute_input": "2021-08-14T15:54:53.655511Z",
          "iopub.status.busy": "2021-08-14T15:54:53.655004Z",
          "iopub.status.idle": "2021-08-14T15:55:09.812086Z",
          "shell.execute_reply": "2021-08-14T15:55:09.811587Z",
          "shell.execute_reply.started": "2021-08-14T15:52:43.700314Z"
        },
        "papermill": {
          "duration": 16.183939,
          "end_time": "2021-08-14T15:55:09.812214",
          "exception": false,
          "start_time": "2021-08-14T15:54:53.628275",
          "status": "completed"
        },
        "tags": [],
        "id": "b64f00d0",
        "outputId": "c82c0002-7e82-4d72-ee64-f17c4ce6ee1c",
        "colab": {
          "base_uri": "https://localhost:8080/"
        }
      },
      "outputs": [
        {
          "output_type": "stream",
          "name": "stdout",
          "text": [
            "Epoch 1/25\n"
          ]
        },
        {
          "output_type": "stream",
          "name": "stderr",
          "text": [
            "/usr/local/lib/python3.7/dist-packages/tensorflow/python/util/dispatch.py:1082: UserWarning: \"`binary_crossentropy` received `from_logits=True`, but the `output` argument was produced by a sigmoid or softmax activation and thus does not represent logits. Was this intended?\"\n",
            "  return dispatch_target(*args, **kwargs)\n"
          ]
        },
        {
          "output_type": "stream",
          "name": "stdout",
          "text": [
            "130/130 [==============================] - 11s 67ms/step - loss: 0.2656 - binary_accuracy: 0.8776 - val_loss: 0.0428 - val_binary_accuracy: 0.9868 - lr: 0.0010\n",
            "Epoch 2/25\n",
            "130/130 [==============================] - 8s 63ms/step - loss: 0.0300 - binary_accuracy: 0.9903 - val_loss: 0.0328 - val_binary_accuracy: 0.9897 - lr: 0.0010\n",
            "Epoch 3/25\n",
            "130/130 [==============================] - 8s 63ms/step - loss: 0.0130 - binary_accuracy: 0.9964 - val_loss: 0.0363 - val_binary_accuracy: 0.9906 - lr: 0.0010\n",
            "Epoch 4/25\n",
            "130/130 [==============================] - 8s 63ms/step - loss: 0.0072 - binary_accuracy: 0.9981 - val_loss: 0.0481 - val_binary_accuracy: 0.9904 - lr: 0.0010\n",
            "Epoch 5/25\n",
            "130/130 [==============================] - 8s 62ms/step - loss: 0.0031 - binary_accuracy: 0.9995 - val_loss: 0.0455 - val_binary_accuracy: 0.9904 - lr: 0.0010\n",
            "Epoch 6/25\n",
            "130/130 [==============================] - 8s 62ms/step - loss: 0.0023 - binary_accuracy: 0.9993 - val_loss: 0.0516 - val_binary_accuracy: 0.9901 - lr: 0.0010\n",
            "Epoch 7/25\n",
            "130/130 [==============================] - 8s 62ms/step - loss: 0.0020 - binary_accuracy: 0.9995 - val_loss: 0.0534 - val_binary_accuracy: 0.9906 - lr: 0.0010\n"
          ]
        }
      ],
      "source": [
        "# training model for 25 epochs\n",
        "history = news_classifier.fit(\n",
        "    x_train,\n",
        "    y_train,\n",
        "    epochs = 25,\n",
        "    batch_size = 128,\n",
        "    validation_split = 0.2,\n",
        "    callbacks = my_callbacks\n",
        ")"
      ]
    },
    {
      "cell_type": "markdown",
      "metadata": {
        "papermill": {
          "duration": 0.053782,
          "end_time": "2021-08-14T15:55:09.921106",
          "exception": false,
          "start_time": "2021-08-14T15:55:09.867324",
          "status": "completed"
        },
        "tags": [],
        "id": "7b25f6af"
      },
      "source": [
        "## Making Predictions"
      ]
    },
    {
      "cell_type": "code",
      "execution_count": null,
      "metadata": {
        "execution": {
          "iopub.execute_input": "2021-08-14T15:55:10.030855Z",
          "iopub.status.busy": "2021-08-14T15:55:10.030284Z",
          "iopub.status.idle": "2021-08-14T15:55:10.756923Z",
          "shell.execute_reply": "2021-08-14T15:55:10.756023Z",
          "shell.execute_reply.started": "2021-08-14T15:52:56.375611Z"
        },
        "papermill": {
          "duration": 0.782887,
          "end_time": "2021-08-14T15:55:10.757063",
          "exception": false,
          "start_time": "2021-08-14T15:55:09.974176",
          "status": "completed"
        },
        "tags": [],
        "id": "e8b72517"
      },
      "outputs": [],
      "source": [
        "test_df = pd.read_csv(\"test.csv\")"
      ]
    },
    {
      "cell_type": "code",
      "execution_count": null,
      "metadata": {
        "execution": {
          "iopub.execute_input": "2021-08-14T15:55:10.885257Z",
          "iopub.status.busy": "2021-08-14T15:55:10.884618Z",
          "iopub.status.idle": "2021-08-14T15:55:10.888094Z",
          "shell.execute_reply": "2021-08-14T15:55:10.888483Z",
          "shell.execute_reply.started": "2021-08-14T15:52:56.679902Z"
        },
        "papermill": {
          "duration": 0.069946,
          "end_time": "2021-08-14T15:55:10.888612",
          "exception": false,
          "start_time": "2021-08-14T15:55:10.818666",
          "status": "completed"
        },
        "tags": [],
        "id": "9eb13bad",
        "outputId": "42f4d3b5-0b5b-4ecb-ff39-fad3f0471c6d",
        "colab": {
          "base_uri": "https://localhost:8080/",
          "height": 206
        }
      },
      "outputs": [
        {
          "output_type": "execute_result",
          "data": {
            "text/plain": [
              "      id                                              title  \\\n",
              "0  20800  Specter of Trump Loosens Tongues, if Not Purse...   \n",
              "1  20801  Russian warships ready to strike terrorists ne...   \n",
              "2  20802  #NoDAPL: Native American Leaders Vow to Stay A...   \n",
              "3  20803  Tim Tebow Will Attempt Another Comeback, This ...   \n",
              "4  20804                    Keiser Report: Meme Wars (E995)   \n",
              "\n",
              "                    author                                               text  \n",
              "0         David Streitfeld  PALO ALTO, Calif.  —   After years of scorning...  \n",
              "1                      NaN  Russian warships ready to strike terrorists ne...  \n",
              "2            Common Dreams  Videos #NoDAPL: Native American Leaders Vow to...  \n",
              "3            Daniel Victor  If at first you don’t succeed, try a different...  \n",
              "4  Truth Broadcast Network  42 mins ago 1 Views 0 Comments 0 Likes 'For th...  "
            ],
            "text/html": [
              "\n",
              "  <div id=\"df-7c2480f2-40e0-4a8d-9916-aecfb975a052\">\n",
              "    <div class=\"colab-df-container\">\n",
              "      <div>\n",
              "<style scoped>\n",
              "    .dataframe tbody tr th:only-of-type {\n",
              "        vertical-align: middle;\n",
              "    }\n",
              "\n",
              "    .dataframe tbody tr th {\n",
              "        vertical-align: top;\n",
              "    }\n",
              "\n",
              "    .dataframe thead th {\n",
              "        text-align: right;\n",
              "    }\n",
              "</style>\n",
              "<table border=\"1\" class=\"dataframe\">\n",
              "  <thead>\n",
              "    <tr style=\"text-align: right;\">\n",
              "      <th></th>\n",
              "      <th>id</th>\n",
              "      <th>title</th>\n",
              "      <th>author</th>\n",
              "      <th>text</th>\n",
              "    </tr>\n",
              "  </thead>\n",
              "  <tbody>\n",
              "    <tr>\n",
              "      <th>0</th>\n",
              "      <td>20800</td>\n",
              "      <td>Specter of Trump Loosens Tongues, if Not Purse...</td>\n",
              "      <td>David Streitfeld</td>\n",
              "      <td>PALO ALTO, Calif.  —   After years of scorning...</td>\n",
              "    </tr>\n",
              "    <tr>\n",
              "      <th>1</th>\n",
              "      <td>20801</td>\n",
              "      <td>Russian warships ready to strike terrorists ne...</td>\n",
              "      <td>NaN</td>\n",
              "      <td>Russian warships ready to strike terrorists ne...</td>\n",
              "    </tr>\n",
              "    <tr>\n",
              "      <th>2</th>\n",
              "      <td>20802</td>\n",
              "      <td>#NoDAPL: Native American Leaders Vow to Stay A...</td>\n",
              "      <td>Common Dreams</td>\n",
              "      <td>Videos #NoDAPL: Native American Leaders Vow to...</td>\n",
              "    </tr>\n",
              "    <tr>\n",
              "      <th>3</th>\n",
              "      <td>20803</td>\n",
              "      <td>Tim Tebow Will Attempt Another Comeback, This ...</td>\n",
              "      <td>Daniel Victor</td>\n",
              "      <td>If at first you don’t succeed, try a different...</td>\n",
              "    </tr>\n",
              "    <tr>\n",
              "      <th>4</th>\n",
              "      <td>20804</td>\n",
              "      <td>Keiser Report: Meme Wars (E995)</td>\n",
              "      <td>Truth Broadcast Network</td>\n",
              "      <td>42 mins ago 1 Views 0 Comments 0 Likes 'For th...</td>\n",
              "    </tr>\n",
              "  </tbody>\n",
              "</table>\n",
              "</div>\n",
              "      <button class=\"colab-df-convert\" onclick=\"convertToInteractive('df-7c2480f2-40e0-4a8d-9916-aecfb975a052')\"\n",
              "              title=\"Convert this dataframe to an interactive table.\"\n",
              "              style=\"display:none;\">\n",
              "        \n",
              "  <svg xmlns=\"http://www.w3.org/2000/svg\" height=\"24px\"viewBox=\"0 0 24 24\"\n",
              "       width=\"24px\">\n",
              "    <path d=\"M0 0h24v24H0V0z\" fill=\"none\"/>\n",
              "    <path d=\"M18.56 5.44l.94 2.06.94-2.06 2.06-.94-2.06-.94-.94-2.06-.94 2.06-2.06.94zm-11 1L8.5 8.5l.94-2.06 2.06-.94-2.06-.94L8.5 2.5l-.94 2.06-2.06.94zm10 10l.94 2.06.94-2.06 2.06-.94-2.06-.94-.94-2.06-.94 2.06-2.06.94z\"/><path d=\"M17.41 7.96l-1.37-1.37c-.4-.4-.92-.59-1.43-.59-.52 0-1.04.2-1.43.59L10.3 9.45l-7.72 7.72c-.78.78-.78 2.05 0 2.83L4 21.41c.39.39.9.59 1.41.59.51 0 1.02-.2 1.41-.59l7.78-7.78 2.81-2.81c.8-.78.8-2.07 0-2.86zM5.41 20L4 18.59l7.72-7.72 1.47 1.35L5.41 20z\"/>\n",
              "  </svg>\n",
              "      </button>\n",
              "      \n",
              "  <style>\n",
              "    .colab-df-container {\n",
              "      display:flex;\n",
              "      flex-wrap:wrap;\n",
              "      gap: 12px;\n",
              "    }\n",
              "\n",
              "    .colab-df-convert {\n",
              "      background-color: #E8F0FE;\n",
              "      border: none;\n",
              "      border-radius: 50%;\n",
              "      cursor: pointer;\n",
              "      display: none;\n",
              "      fill: #1967D2;\n",
              "      height: 32px;\n",
              "      padding: 0 0 0 0;\n",
              "      width: 32px;\n",
              "    }\n",
              "\n",
              "    .colab-df-convert:hover {\n",
              "      background-color: #E2EBFA;\n",
              "      box-shadow: 0px 1px 2px rgba(60, 64, 67, 0.3), 0px 1px 3px 1px rgba(60, 64, 67, 0.15);\n",
              "      fill: #174EA6;\n",
              "    }\n",
              "\n",
              "    [theme=dark] .colab-df-convert {\n",
              "      background-color: #3B4455;\n",
              "      fill: #D2E3FC;\n",
              "    }\n",
              "\n",
              "    [theme=dark] .colab-df-convert:hover {\n",
              "      background-color: #434B5C;\n",
              "      box-shadow: 0px 1px 3px 1px rgba(0, 0, 0, 0.15);\n",
              "      filter: drop-shadow(0px 1px 2px rgba(0, 0, 0, 0.3));\n",
              "      fill: #FFFFFF;\n",
              "    }\n",
              "  </style>\n",
              "\n",
              "      <script>\n",
              "        const buttonEl =\n",
              "          document.querySelector('#df-7c2480f2-40e0-4a8d-9916-aecfb975a052 button.colab-df-convert');\n",
              "        buttonEl.style.display =\n",
              "          google.colab.kernel.accessAllowed ? 'block' : 'none';\n",
              "\n",
              "        async function convertToInteractive(key) {\n",
              "          const element = document.querySelector('#df-7c2480f2-40e0-4a8d-9916-aecfb975a052');\n",
              "          const dataTable =\n",
              "            await google.colab.kernel.invokeFunction('convertToInteractive',\n",
              "                                                     [key], {});\n",
              "          if (!dataTable) return;\n",
              "\n",
              "          const docLinkHtml = 'Like what you see? Visit the ' +\n",
              "            '<a target=\"_blank\" href=https://colab.research.google.com/notebooks/data_table.ipynb>data table notebook</a>'\n",
              "            + ' to learn more about interactive tables.';\n",
              "          element.innerHTML = '';\n",
              "          dataTable['output_type'] = 'display_data';\n",
              "          await google.colab.output.renderOutput(dataTable, element);\n",
              "          const docLink = document.createElement('div');\n",
              "          docLink.innerHTML = docLinkHtml;\n",
              "          element.appendChild(docLink);\n",
              "        }\n",
              "      </script>\n",
              "    </div>\n",
              "  </div>\n",
              "  "
            ]
          },
          "metadata": {},
          "execution_count": 48
        }
      ],
      "source": [
        "test_df.head()"
      ]
    },
    {
      "cell_type": "code",
      "execution_count": null,
      "metadata": {
        "execution": {
          "iopub.execute_input": "2021-08-14T15:55:11.003445Z",
          "iopub.status.busy": "2021-08-14T15:55:11.002546Z",
          "iopub.status.idle": "2021-08-14T15:55:21.007220Z",
          "shell.execute_reply": "2021-08-14T15:55:21.007640Z",
          "shell.execute_reply.started": "2021-08-14T15:52:56.698041Z"
        },
        "papermill": {
          "duration": 10.064211,
          "end_time": "2021-08-14T15:55:21.007831",
          "exception": false,
          "start_time": "2021-08-14T15:55:10.943620",
          "status": "completed"
        },
        "tags": [],
        "id": "6906515e"
      },
      "outputs": [],
      "source": [
        "# null value handling\n",
        "test_df = test_df.fillna('')\n",
        "# make new column with title and author name in one line\n",
        "test_df[\"total\"] = test_df[\"title\"] + \" \" + test_df[\"author\"]\n",
        "\n",
        "text_test = test_df.copy()\n",
        "\n",
        "# same function used in preprocessing just defined again\n",
        "def text_cleaning_test(length):\n",
        "    ps = PorterStemmer()\n",
        "    corpus_test = []\n",
        "    for i in range(length):\n",
        "        m = re.sub(\"[^a-zA-Z]\",\" \",text_test[\"total\"][i])\n",
        "        m = m.lower()\n",
        "        m = m.split()\n",
        "        m = [ps.stem(word) for word in m if not word in stopwords.words('english')]\n",
        "        clean_text = \" \".join(m)\n",
        "        corpus_test.append(clean_text)\n",
        "        \n",
        "    return corpus_test\n",
        "\n",
        "clean_test_corpus = text_cleaning_test(len(text_test))\n",
        "\n",
        "# one hot encode 1000(VOCAB_SIZE) words\n",
        "onehot_text_test = [one_hot(words, VOCAB_SIZE) for words in clean_test_corpus]\n",
        "\n",
        "# padding sequences to the fixed length of 25\n",
        "padded_doc_test = pad_sequences(onehot_text_test, padding=\"pre\", maxlen = 25)\n",
        "\n",
        "# append cleaned text back to the test data variable\n",
        "x_test = np.array(padded_doc_test)"
      ]
    },
    {
      "cell_type": "code",
      "execution_count": null,
      "metadata": {
        "execution": {
          "iopub.execute_input": "2021-08-14T15:55:21.122171Z",
          "iopub.status.busy": "2021-08-14T15:55:21.121322Z",
          "iopub.status.idle": "2021-08-14T15:55:21.749210Z",
          "shell.execute_reply": "2021-08-14T15:55:21.748155Z",
          "shell.execute_reply.started": "2021-08-14T15:53:11.376532Z"
        },
        "papermill": {
          "duration": 0.687194,
          "end_time": "2021-08-14T15:55:21.749337",
          "exception": false,
          "start_time": "2021-08-14T15:55:21.062143",
          "status": "completed"
        },
        "tags": [],
        "id": "23c14f63"
      },
      "outputs": [],
      "source": [
        "# making predictions\n",
        "predictions = news_classifier.predict(x_test)\n",
        "\n",
        "# converting float predictions to int\n",
        "predictions = [int(np.round(pred[0])) for pred in predictions]"
      ]
    },
    {
      "cell_type": "markdown",
      "source": [
        "###### rough"
      ],
      "metadata": {
        "id": "oMtUoHSnJxT-"
      }
    },
    {
      "cell_type": "code",
      "source": [
        "# visualization will done sometime later"
      ],
      "metadata": {
        "id": "v0cXIoEgJwoF"
      },
      "execution_count": null,
      "outputs": []
    },
    {
      "cell_type": "code",
      "execution_count": null,
      "metadata": {
        "id": "xML88bBDSy6K"
      },
      "outputs": [],
      "source": [
        "###########################################################################################\n",
        "from sklearn.metrics import accuracy_score, precision_recall_fscore_support\n",
        "from numpy import mean\n",
        "\n",
        "rf_a = accuracy_score(y_test,y_rf)\n",
        "rf_p, rf_r, rf_f1,_ = precision_recall_fscore_support(y_test,y_rf)\n",
        "rf_scores = [rf_a,mean(rf_p),mean(rf_r),mean(rf_f1)]\n",
        "\n",
        "ind = np.arange(len(rf_scores))\n",
        "width = 0.27\n",
        "\n",
        "ax = plt.figure().add_subplot(111)\n",
        "rects1 = ax.bar(ind-(width/2), rf_scores, width, color='g')\n",
        "rects2 = ax.bar(ind+(width/2), bag_scores, width, color='r')\n",
        "\n",
        "ax.set_xticks(ind)\n",
        "ax.set_xticklabels(['Accuracy','Precision','Recall','F1 Score'])\n",
        "ax.legend((rects1[0], rects2[0]), ('Training', 'Testing'),loc='center')\n",
        "\n",
        "def autolabel(rects):\n",
        "    for rect in rects:\n",
        "        h = rect.get_height()\n",
        "        ax.text(rect.get_x()+rect.get_width()/2., h, '%.2f'%h, ha='center', va='bottom')\n",
        "\n",
        "autolabel(rects1)\n",
        "autolabel(rects2)\n",
        "\n",
        "plt.show()"
      ]
    },
    {
      "cell_type": "code",
      "source": [
        "'''\n",
        "2 dl classifications\n",
        "\n",
        "after pre-prop do word embedding\n",
        "\n",
        "XG boosting\n",
        "svm\n",
        "\n",
        "for i in arr:\n",
        "\tarr[i] = arr[i]/max(arr)\n",
        "'''"
      ],
      "metadata": {
        "id": "qZJ7UvrdGzsW"
      },
      "execution_count": null,
      "outputs": []
    },
    {
      "cell_type": "code",
      "execution_count": null,
      "metadata": {
        "id": "X7jOMkAATEYB"
      },
      "outputs": [],
      "source": [
        "#########################################################################################################\n",
        "# Also check the values in confusion matrix.\n",
        "from sklearn.metrics import confusion_matrix\n",
        "from sklearn.metrics import ConfusionMatrixDisplay\n",
        "import matplotlib.pyplot as plt\n",
        "\n",
        "f, axes = plt.subplots(1, 2, figsize=(15, 5), sharey='row')\n",
        "\n",
        "cm = confusion_matrix(y_test, y_rf, labels=best_rf.classes_)\n",
        "disp = ConfusionMatrixDisplay(confusion_matrix=cm, display_labels=best_rf.classes_)\n",
        "disp.plot(ax=axes[0])\n",
        "disp.ax_.set_title('Random Forest Classifier')\n",
        "disp.im_.colorbar.remove()\n",
        "disp.ax_.set_xlabel('')\n",
        "disp.ax_.set_ylabel('True')\n",
        "\n",
        "cm = confusion_matrix(y_test, y_bag, labels=best_bag.classes_)\n",
        "disp = ConfusionMatrixDisplay(confusion_matrix=cm, display_labels=best_bag.classes_)\n",
        "disp.plot(ax=axes[1])\n",
        "disp.ax_.set_title('Bagging Classifier')\n",
        "disp.ax_.set_xlabel('')\n",
        "disp.ax_.set_ylabel('')\n",
        "\n",
        "f.text(0.5, 0, 'Predicted', ha='left')\n",
        "plt.subplots_adjust(wspace=0.1, hspace=0.1)\n",
        "\n",
        "plt.show()"
      ]
    },
    {
      "cell_type": "code",
      "source": [
        "from sklearn.svm import SVC\n",
        "svm = SVC()\n",
        "svm.fit()"
      ],
      "metadata": {
        "id": "rXY9G0pLqdjB"
      },
      "execution_count": null,
      "outputs": []
    }
  ]
}